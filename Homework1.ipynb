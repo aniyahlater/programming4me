{
  "nbformat": 4,
  "nbformat_minor": 0,
  "metadata": {
    "colab": {
      "provenance": [],
      "authorship_tag": "ABX9TyPbPrBxtjK+7eBYshf/WmXB",
      "include_colab_link": true
    },
    "kernelspec": {
      "name": "python3",
      "display_name": "Python 3"
    },
    "language_info": {
      "name": "python"
    }
  },
  "cells": [
    {
      "cell_type": "markdown",
      "metadata": {
        "id": "view-in-github",
        "colab_type": "text"
      },
      "source": [
        "<a href=\"https://colab.research.google.com/github/aniyahlater/programming4me/blob/main/Homework1.ipynb\" target=\"_parent\"><img src=\"https://colab.research.google.com/assets/colab-badge.svg\" alt=\"Open In Colab\"/></a>"
      ]
    },
    {
      "cell_type": "markdown",
      "source": [
        "Question 1:\n",
        "After looking at jobs that interested me on the occupational outlook handbook, one thing that really surprised me was the very limited and abstract job descriptions that are available. As a college student who is still not entirely sure what I want to do or a job that combines both my interests, it felt disappointing to not really see any jobs that I have not really heard about.\n",
        "Proceeding on, you can see my ranking of desirable jobs in Figure (1.1).\n",
        "Figure (1.1)\n",
        "1. Human Factors Engineer\n",
        "    I want to design cool things focusing on language and cognition so I feel like this job would fit my interests the best so I ranked it number 1, I am still exploring what I want to do\n",
        "2. Data Scientist\n",
        "    \n",
        "    I like data science a lot and want to use it to supplement my cognitive science degree somehow, but it might be difficult to find a job using data science the way I want to, so I would start off here at number 2 and eventually make connections and find companies that I like\n",
        "3.Speech Language Pathologist\n",
        "    \n",
        "    I think it would be cool to use data science, specifically natural language processing to help with the Deaf community or something with ASL because I am interested in language so this is number 3\n",
        "4.Neurologist\n",
        "    I would want to be a neurologist so I could do neuroscience research and think of ways to use data science to help imporve brain science, this one is at 4 because i dont want to be a medical doctor but I would like the income\n",
        "5.Computer & Information Research Assistant\n",
        "\n",
        "    I think this job would be fun and pays more than a web developer so 5\n",
        "6.Web developers/ Digital Designers\n",
        "\n",
        "    I have no experience with this which is why its towards the bottom but i think my bachelors degree would help me with the research and allow me to explore human-computer interactions in a hands on way\n",
        "  \n",
        "7. Statistician\n",
        "\n",
        "    I feel like most statistics jobs focus on financial analysis and economics which kind of bores me so I don't think I would be too interested in the projects and I just like data science more so it comes in at 7\n",
        "8. Software Developers, Quality Assurance Analysts, and Testers\n",
        "\n",
        "    I think my cognitive science degree would help me bring an interdisciplinary approach to software programs but I dont really like computer science so 8\n",
        "9. Technical Writer\n",
        "\n",
        "    I just needed another career to be honest so this one is last\n",
        "\n"
      ],
      "metadata": {
        "id": "5sDW_95vsdql"
      }
    },
    {
      "cell_type": "code",
      "execution_count": 20,
      "metadata": {
        "colab": {
          "base_uri": "https://localhost:8080/"
        },
        "id": "Nlaqec_K_o99",
        "outputId": "8239a7fb-bbda-465d-da3c-89e21ee87624"
      },
      "outputs": [
        {
          "output_type": "stream",
          "name": "stdout",
          "text": [
            "Sample Mean: -1.0899806430403438 \n",
            "\n",
            "Sample Standard Deviation: 3.2847981697718236 \n",
            "\n",
            "Z-scores: [-1.05060967 -0.74576403 -0.38160532  0.24681908  0.52189922  0.70940228\n",
            " -0.59306576  0.70489592  0.19667971] \n",
            "\n",
            "Covariance: -2.8396505928938764 \n",
            "\n",
            "Correlation: -0.42205093921264847 \n",
            "\n"
          ]
        }
      ],
      "source": [
        "## Question 3\n",
        "\n",
        "import numpy as np\n",
        "np.random.seed(100) # Set the seed for the random number generator\n",
        "rho, sigma_x, sigma_y = -.4, 3, 2\n",
        "vcv = np.array([[sigma_x**2, rho*sigma_x*sigma_y],\n",
        "                [rho*sigma_x*sigma_y,sigma_y**2]])\n",
        "mu = np.array([-1,2])\n",
        "sample = np.random.multivariate_normal(mu,vcv,200)\n",
        "x = sample[:,0]\n",
        "y = sample[:,1]\n",
        "def mean(list):\n",
        "  length = len(list)\n",
        "  avg = np.sum(list) / length\n",
        "  return avg\n",
        "\n",
        "print('Sample Mean:', mean(x),'\\n')\n",
        "\n",
        "def sd(inventory):\n",
        "  n = len(inventory)\n",
        "  sum = 0\n",
        "  for x in inventory:\n",
        "    deviation = (x - mean(inventory))**2\n",
        "    sum += deviation\n",
        "  stddev = np.sqrt(sum / (n - 1))\n",
        "  return stddev\n",
        "\n",
        "print('Sample Standard Deviation:', sd(x),'\\n')\n",
        "\n",
        "def zscore(supply):\n",
        "  s = sd(supply)\n",
        "  avg = mean(supply)\n",
        "  difference = (x - avg) / s\n",
        "  return difference\n",
        "\n",
        "print('Z-scores:', zscore(x)[1:10],'\\n')\n",
        "\n",
        "def cov(X,Y):\n",
        "  n = len(X)\n",
        "  differenceofX = X - mean(x)\n",
        "  differenceofY = Y- mean(y)\n",
        "  sum = 0\n",
        "  for i in range (n):\n",
        "    crossproduct = differenceofX[i] * differenceofY[i]\n",
        "    sum += crossproduct\n",
        "  finalanswer = sum / (len(x) - 1)\n",
        "  return finalanswer\n",
        "\n",
        "print('Covariance:', cov(x,y),'\\n')\n",
        "\n",
        "def corr_coefficient(X,Y):\n",
        "  cov1 = cov(X,Y)\n",
        "  stddev_X = sd(X)\n",
        "  stddev_Y = sd(Y)\n",
        "  corr = cov1 / (stddev_X*stddev_Y)\n",
        "  return corr\n",
        "\n",
        "print('Correlation:', corr_coefficient(x,y),'\\n')\n",
        "\n",
        "\n",
        "\n",
        "\n",
        "\n"
      ]
    },
    {
      "cell_type": "code",
      "source": [],
      "metadata": {
        "id": "kMcAb5jdAbrY"
      },
      "execution_count": null,
      "outputs": []
    }
  ]
}